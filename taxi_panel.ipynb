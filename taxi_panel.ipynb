{
 "cells": [
  {
   "cell_type": "code",
   "execution_count": null,
   "id": "5a01615f-7502-4432-8968-5291987ea438",
   "metadata": {
    "tags": []
   },
   "outputs": [],
   "source": [
    "import polars as pl\n",
    "import panel as pn\n",
    "import panel.widgets as pnw\n",
    "from bokeh.io import curdoc as document # len kvoli nazvu v prehliadaci\n",
    "from data_functions_sk import dfdays, weekdays, pick_days, drop_days, pick_hours, drop_hours\n",
    "from view_panel import play_hourly, df_for_map, view_distances, view_rtimes,\\\n",
    "                       mapa, body, meanloc, view_map, rides, view_shaded, view_hourly\n",
    "\n",
    "pn.config.throttled = True\n",
    "pn.extension('plotly','ipywidgets')"
   ]
  },
  {
   "cell_type": "code",
   "execution_count": null,
   "id": "e8991238-2a9a-4498-a3fa-be3ec09c8201",
   "metadata": {},
   "outputs": [],
   "source": [
    "static_days = pn.Column(pick_days, drop_days)\n",
    "static_hours = pn.Column(pick_hours, drop_hours)\n",
    "static_weekdays = pn.Row(weekdays, width=800)"
   ]
  },
  {
   "cell_type": "code",
   "execution_count": null,
   "id": "3dd3215d-3177-46fe-9855-137ad99eb14c",
   "metadata": {},
   "outputs": [],
   "source": [
    "day_choose = pnw.IntSlider(start=1, end=31, value=14, width=250, name='Deň')\n",
    "hour_choose = pnw.IntSlider(start=0, end=23, value=11, width=300, name='Hodina')\n",
    "day_player = pnw.DiscretePlayer(options=list(range(1, 32)), interval=300, value=1, show_loop_controls=False)\n",
    "smer = pnw.RadioBoxGroup(options=['Nástup','Výstup'], inline=True)\n",
    "# pre celkove grafy\n",
    "day_or_hour = pnw.RadioBoxGroup(options=['Podľa dní','Podľa hodín', 'Dni v týždni (nástupy)'], inline=True)\n",
    "# pre histogram vzdialenosti\n",
    "nbins = pnw.IntSlider(start=10, end=120, value=20, width=250, name='Počet tried');"
   ]
  },
  {
   "cell_type": "code",
   "execution_count": null,
   "id": "58c0b473-a2e4-46a6-a49e-4f8ded92f272",
   "metadata": {},
   "outputs": [],
   "source": [
    "bind_hourly = pn.bind(play_hourly, value=day_player, direct=smer)\n",
    "play_col = pn.Column(day_player, smer, bind_hourly)\n",
    "bind_view_hourly = pn.bind(view_hourly, day=day_choose, direct=smer)"
   ]
  },
  {
   "cell_type": "code",
   "execution_count": null,
   "id": "fb8f4726-f858-4690-b1aa-5ca0fbda2da2",
   "metadata": {},
   "outputs": [],
   "source": [
    "def view_totals(doh):\n",
    "    return (static_days if doh == 'Podľa dní' else \n",
    "           (static_hours if doh == 'Podľa hodín' else static_weekdays))\n",
    "bind_totals = pn.bind(view_totals, doh=day_or_hour)"
   ]
  },
  {
   "cell_type": "code",
   "execution_count": null,
   "id": "16dab953-2a26-4576-8ce3-c7926cf376ba",
   "metadata": {},
   "outputs": [],
   "source": [
    "bind_map = pn.bind(view_map, day=day_choose, hour=hour_choose, direct=smer)\n",
    "bind_rides = pn.bind(rides, day=day_choose, hour=hour_choose, direct=smer)"
   ]
  },
  {
   "cell_type": "code",
   "execution_count": null,
   "id": "72995899-1e51-4dcf-b2c3-86c3db32e1a5",
   "metadata": {},
   "outputs": [],
   "source": [
    "bind_dist = pn.bind(view_distances, nb=nbins)\n",
    "bind_rtimes = pn.bind(view_rtimes, nb=nbins)\n",
    "dist_and_times = pn.Column(pn.Spacer(height=20), nbins, bind_dist, bind_rtimes)"
   ]
  },
  {
   "cell_type": "code",
   "execution_count": null,
   "id": "3dc6a2d5-b980-41f1-aa82-8051a47117b3",
   "metadata": {},
   "outputs": [],
   "source": [
    "bind_shaded = pn.bind(view_shaded, hour=hour_choose, direct=smer)\n",
    "shaded_md = pn.pane.Markdown(\"### Všetkých 11 mil. zápisov, spracované cez datashader\")\n",
    "shaded = pn.Column(pn.Spacer(height=20), shaded_md, pn.Row(smer, hour_choose), bind_shaded)"
   ]
  },
  {
   "cell_type": "code",
   "execution_count": null,
   "id": "e396aba3-d27f-4a7c-b74a-a9dc8c1041fb",
   "metadata": {},
   "outputs": [],
   "source": [
    "nadpis = pn.pane.Markdown(\n",
    "    f\"\"\"\n",
    "    # Taxi v New Yorku\n",
    "    ### Dáta z januára 2015, vzorka 155000 zápisov, celkovo je ich vyše 11 mil.\n",
    "    \"\"\")\n",
    "document().title = \"NYC Taxi\" # Nazov v prehliadaci\n",
    "hourly = pn.Column(pn.Spacer(height=20), pn.Row(smer, day_choose), bind_view_hourly)\n",
    "maps = pn.Column(pn.Spacer(height=20), pn.Row(smer, day_choose, hour_choose), \n",
    "                 pn.pane.Markdown(bind_rides), bind_map)\n",
    "totals = pn.Column(pn.Spacer(height=20), day_or_hour, bind_totals)"
   ]
  },
  {
   "cell_type": "code",
   "execution_count": null,
   "id": "7fc8fd74-2a1d-400e-8d31-17eca5f2b6b8",
   "metadata": {},
   "outputs": [],
   "source": [
    "tabs = pn.Tabs(('Grafy podľa dní', hourly), ('Grafy celkové', totals),\n",
    "               ('Miesta na mape', maps), ('Histogramy', dist_and_times),\n",
    "               ('Prehrávač', play_col), ('Datashader', shaded), dynamic=True)\n",
    "pn.Column(nadpis, pn.Spacer(height=25), tabs).servable()"
   ]
  }
 ],
 "metadata": {
  "ipyflow": {
   "cell_children": {
    "16dab953-2a26-4576-8ce3-c7926cf376ba": [
     "e396aba3-d27f-4a7c-b74a-a9dc8c1041fb"
    ],
    "2dbcc59b-014c-45ad-8d6d-1e413717e111": [],
    "3dd3215d-3177-46fe-9855-137ad99eb14c": [
     "e396aba3-d27f-4a7c-b74a-a9dc8c1041fb",
     "16dab953-2a26-4576-8ce3-c7926cf376ba",
     "93840c48-94c3-4198-a50e-4548eb9e7f06"
    ],
    "5a01615f-7502-4432-8968-5291987ea438": [
     "3dd3215d-3177-46fe-9855-137ad99eb14c",
     "a3a66a71-4da0-4e6a-bd95-98be0e2b97aa",
     "2dbcc59b-014c-45ad-8d6d-1e413717e111",
     "7fc8fd74-2a1d-400e-8d31-17eca5f2b6b8",
     "93840c48-94c3-4198-a50e-4548eb9e7f06",
     "e396aba3-d27f-4a7c-b74a-a9dc8c1041fb",
     "16dab953-2a26-4576-8ce3-c7926cf376ba",
     "cbc84923-e878-4418-9191-567f52fb9a79",
     "e8991238-2a9a-4498-a3fa-be3ec09c8201"
    ],
    "7fc8fd74-2a1d-400e-8d31-17eca5f2b6b8": [],
    "93840c48-94c3-4198-a50e-4548eb9e7f06": [
     "e396aba3-d27f-4a7c-b74a-a9dc8c1041fb"
    ],
    "a3a66a71-4da0-4e6a-bd95-98be0e2b97aa": [
     "e396aba3-d27f-4a7c-b74a-a9dc8c1041fb"
    ],
    "cbc84923-e878-4418-9191-567f52fb9a79": [
     "e396aba3-d27f-4a7c-b74a-a9dc8c1041fb",
     "a3a66a71-4da0-4e6a-bd95-98be0e2b97aa",
     "2dbcc59b-014c-45ad-8d6d-1e413717e111",
     "e8991238-2a9a-4498-a3fa-be3ec09c8201"
    ],
    "e396aba3-d27f-4a7c-b74a-a9dc8c1041fb": [
     "7fc8fd74-2a1d-400e-8d31-17eca5f2b6b8"
    ],
    "e8991238-2a9a-4498-a3fa-be3ec09c8201": [
     "7fc8fd74-2a1d-400e-8d31-17eca5f2b6b8"
    ]
   },
   "cell_parents": {
    "16dab953-2a26-4576-8ce3-c7926cf376ba": [
     "3dd3215d-3177-46fe-9855-137ad99eb14c",
     "5a01615f-7502-4432-8968-5291987ea438"
    ],
    "2dbcc59b-014c-45ad-8d6d-1e413717e111": [
     "cbc84923-e878-4418-9191-567f52fb9a79",
     "5a01615f-7502-4432-8968-5291987ea438"
    ],
    "3dd3215d-3177-46fe-9855-137ad99eb14c": [
     "5a01615f-7502-4432-8968-5291987ea438"
    ],
    "5a01615f-7502-4432-8968-5291987ea438": [],
    "7fc8fd74-2a1d-400e-8d31-17eca5f2b6b8": [
     "e396aba3-d27f-4a7c-b74a-a9dc8c1041fb",
     "5a01615f-7502-4432-8968-5291987ea438",
     "e8991238-2a9a-4498-a3fa-be3ec09c8201"
    ],
    "93840c48-94c3-4198-a50e-4548eb9e7f06": [
     "3dd3215d-3177-46fe-9855-137ad99eb14c",
     "5a01615f-7502-4432-8968-5291987ea438"
    ],
    "a3a66a71-4da0-4e6a-bd95-98be0e2b97aa": [
     "cbc84923-e878-4418-9191-567f52fb9a79",
     "5a01615f-7502-4432-8968-5291987ea438"
    ],
    "cbc84923-e878-4418-9191-567f52fb9a79": [
     "5a01615f-7502-4432-8968-5291987ea438"
    ],
    "e396aba3-d27f-4a7c-b74a-a9dc8c1041fb": [
     "a3a66a71-4da0-4e6a-bd95-98be0e2b97aa",
     "3dd3215d-3177-46fe-9855-137ad99eb14c",
     "93840c48-94c3-4198-a50e-4548eb9e7f06",
     "5a01615f-7502-4432-8968-5291987ea438",
     "16dab953-2a26-4576-8ce3-c7926cf376ba",
     "cbc84923-e878-4418-9191-567f52fb9a79"
    ],
    "e8991238-2a9a-4498-a3fa-be3ec09c8201": [
     "cbc84923-e878-4418-9191-567f52fb9a79",
     "5a01615f-7502-4432-8968-5291987ea438"
    ]
   }
  },
  "kernelspec": {
   "display_name": "Python 3 (ipykernel)",
   "language": "python",
   "name": "python3"
  },
  "language_info": {
   "codemirror_mode": {
    "name": "ipython",
    "version": 3
   },
   "file_extension": ".py",
   "mimetype": "text/x-python",
   "name": "python",
   "nbconvert_exporter": "python",
   "pygments_lexer": "ipython3",
   "version": "3.11.7"
  }
 },
 "nbformat": 4,
 "nbformat_minor": 5
}
