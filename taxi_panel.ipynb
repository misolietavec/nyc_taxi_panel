{
 "cells": [
  {
   "cell_type": "code",
   "execution_count": null,
   "id": "5a01615f-7502-4432-8968-5291987ea438",
   "metadata": {
    "tags": []
   },
   "outputs": [],
   "source": [
    "import polars as pl\n",
    "import panel as pn\n",
    "import numpy as np\n",
    "import panel.widgets as pnw\n",
    "import plotly.express as px\n",
    "import ipywidgets as ipw\n",
    "from bokeh.io import curdoc as document # len kvoli nazvu v prehliadaci\n",
    "from data_functions_sk import make_graphs, static_graphs\n",
    "from ipyleaflet import Map, MarkerCluster, CircleMarker\n",
    "pn.config.throttled = True\n",
    "pn.extension('plotly','ipywidgets')"
   ]
  },
  {
   "cell_type": "code",
   "execution_count": null,
   "id": "77ed6b26-78bc-4a2c-b0e6-48c29a6bf6fb",
   "metadata": {},
   "outputs": [],
   "source": [
    "# df = pl.read_parquet('data/nyc_taxi_rt.parq') # .sample(155000)\n",
    "# df.write_parquet('data/nyc_taxi155k.parq')\n",
    "df = pl.read_parquet('data/nyc_taxi155k.parq')\n",
    "df = df.with_columns(pl.col('rtime').cast(pl.Float32)/1000/60) # casy v min.\n",
    "meanloc = [df['pick_lat'].mean(), df['pick_lon'].mean()]\n",
    "# df = df.with_columns(pl.col('distance').round(1).alias('dist_rounded'))"
   ]
  },
  {
   "cell_type": "code",
   "execution_count": null,
   "id": "e8991238-2a9a-4498-a3fa-be3ec09c8201",
   "metadata": {},
   "outputs": [],
   "source": [
    "pick_days, drop_days, pick_hours, drop_hours = static_graphs(df)\n",
    "static_days = pn.Column(pick_days, drop_days)\n",
    "static_hours = pn.Column(pick_hours, drop_hours)"
   ]
  },
  {
   "cell_type": "code",
   "execution_count": null,
   "id": "2dbcc59b-014c-45ad-8d6d-1e413717e111",
   "metadata": {},
   "outputs": [],
   "source": [
    "dfdays = make_graphs(df, create=False)  # grafy predrobene uz pre tento vyber"
   ]
  },
  {
   "cell_type": "code",
   "execution_count": null,
   "id": "3dd3215d-3177-46fe-9855-137ad99eb14c",
   "metadata": {},
   "outputs": [],
   "source": [
    "# vyber dna, hodiny, smeru (nastup, vystup)\n",
    "day_choose = pnw.IntSlider(start=1, end=31, value=14, width=250, name='Deň')\n",
    "hour_choose = pnw.IntSlider(start=0, end=23, value=11, width=300, name='Hodina')\n",
    "smer = pnw.RadioBoxGroup(options=['Nástup','Výstup'], inline=True)\n",
    "# pre celkove grafy\n",
    "day_or_hour = pnw.RadioBoxGroup(options=['Podľa dní','Podľa hodín'], inline=True)\n",
    "# pre histogram vzdialenosti\n",
    "nbins = pnw.IntSlider(start=10, end=120, value=20, width=250, name='Počet tried')"
   ]
  },
  {
   "cell_type": "code",
   "execution_count": null,
   "id": "93840c48-94c3-4198-a50e-4548eb9e7f06",
   "metadata": {},
   "outputs": [],
   "source": [
    "@pn.depends(day_choose, smer)\n",
    "def view_hourly(day_choose, smer):\n",
    "    if smer == 'Nástup':\n",
    "        return dfdays[day_choose]['pick_graph']\n",
    "    return dfdays[day_choose]['drop_graph']"
   ]
  },
  {
   "cell_type": "code",
   "execution_count": null,
   "id": "fb8f4726-f858-4690-b1aa-5ca0fbda2da2",
   "metadata": {},
   "outputs": [],
   "source": [
    "@pn.depends(day_or_hour)\n",
    "def view_totals(day_or_hour):\n",
    "    return static_days if day_or_hour == 'Podľa dní' else static_hours"
   ]
  },
  {
   "cell_type": "code",
   "execution_count": null,
   "id": "a3a66a71-4da0-4e6a-bd95-98be0e2b97aa",
   "metadata": {},
   "outputs": [],
   "source": [
    "mapa =  Map(center=meanloc, layout=ipw.Layout(width='750px', height='450px'))\n",
    "bod =  CircleMarker(location=meanloc, radius=6, visible=False)\n",
    "body = MarkerCluster(markers=[bod] * 10, visible=False)\n",
    "mapa.add(body);"
   ]
  },
  {
   "cell_type": "code",
   "execution_count": null,
   "id": "f1b24b86-212d-40b3-ba7b-e954c2ed3773",
   "metadata": {},
   "outputs": [],
   "source": [
    "@pn.depends(day_choose, hour_choose, smer)\n",
    "def filtered_df(day_choose, hour_choose, smer):\n",
    "    pick_df = df.filter((pl.col('pick_day') == day_choose) &\n",
    "                        (pl.col('pick_hour') == hour_choose)) \n",
    "    drop_df = df.filter((pl.col('drop_day') == day_choose) &\n",
    "                        (pl.col('drop_hour') == hour_choose))\n",
    "    data, what = (pick_df, 'pick') if smer == 'Nástup' else (drop_df, 'drop')\n",
    "    return data, what"
   ]
  },
  {
   "cell_type": "code",
   "execution_count": null,
   "id": "16dab953-2a26-4576-8ce3-c7926cf376ba",
   "metadata": {},
   "outputs": [],
   "source": [
    "@pn.depends(day_choose, hour_choose, smer)\n",
    "def view_map(day_choose, hour_choose, smer):\n",
    "    data, what = filtered_df(day_choose, hour_choose, smer)\n",
    "    col_lat, col_lon = f'{what}_lat', f'{what}_lon'\n",
    "    lat, lon = data[col_lat], data[col_lon]\n",
    "    newcent = [lat.mean(), lon.mean()] if len(lat) else meanloc\n",
    "    mapa.center = newcent\n",
    "    marks = [CircleMarker(location=[lata, lona], radius=2) for lata, lona in zip(lat, lon)]\n",
    "    body.markers = marks\n",
    "    return mapa\n",
    "\n",
    "\n",
    "@pn.depends(day_choose, hour_choose, smer)\n",
    "def rides(day_choose, hour_choose, smer):\n",
    "    data, what = filtered_df(day_choose, hour_choose, smer)\n",
    "    return pn.pane.Markdown(f\"### Počet jázd: {data.shape[0]}\")"
   ]
  },
  {
   "cell_type": "code",
   "execution_count": null,
   "id": "72995899-1e51-4dcf-b2c3-86c3db32e1a5",
   "metadata": {},
   "outputs": [],
   "source": [
    "@pn.depends(nbins)\n",
    "def view_distances(nbins): \n",
    "    y, x = np.histogram(df['distance'], bins=nbins, range=(0, 8))\n",
    "    x = (x[0:-1] + x[1:]) / 2  # stredy intervalov\n",
    "    df_hist = pl.DataFrame({'x': x, 'y': y}) # , 'zaokrúhlené': yr})\n",
    "    return px.bar(data_frame=df_hist, x='x', y='y', #  'zaokrúhlené'], \n",
    "                  barmode='group', labels={'x': 'Vzdialenosť (km)', 'y': 'početnosť',\n",
    "                                           'variable': 'hodnota'}, width=900, height=350)"
   ]
  },
  {
   "cell_type": "code",
   "execution_count": null,
   "id": "cb27ba12-cbf0-4c0d-8345-929ec2e8aa60",
   "metadata": {},
   "outputs": [],
   "source": [
    "@pn.depends(nbins)\n",
    "def view_rtimes(nbins):\n",
    "    y, x = np.histogram(df['rtime'], bins=nbins, range=(0, 45)) # min.\n",
    "    x = (x[0:-1] + x[1:]) / 2  # stredy intervalov\n",
    "    df_hist = pl.DataFrame({'x': x, 'y': y}) # , 'zaokrúhlené': yr})\n",
    "    return px.bar(data_frame=df_hist, x='x', y='y', \n",
    "                  barmode='group', labels={'x': 'Čas jazdy (min.)', 'y': 'početnosť',\n",
    "                                           'variable': 'hodnota'}, width=900, height=350)\n",
    "dist_and_times = pn.Column(pn.Spacer(height=20), nbins, view_distances, view_rtimes)"
   ]
  },
  {
   "cell_type": "code",
   "execution_count": null,
   "id": "e396aba3-d27f-4a7c-b74a-a9dc8c1041fb",
   "metadata": {},
   "outputs": [],
   "source": [
    "nadpis = pn.pane.Markdown(\n",
    "    f\"\"\"\n",
    "    # Taxi v New Yorku\n",
    "    ### Dáta z januára 2015, vzorka 155000 zápisov, celkovo je ich vyše 11 mil.\n",
    "    \"\"\")\n",
    "document().title = \"NYC Taxi\" # Nazov v prehliadaci\n",
    "hourly = pn.Column(pn.Spacer(height=20), pn.Row(smer, day_choose), view_hourly)\n",
    "maps = pn.Column( pn.Spacer(height=20), pn.Row(smer, day_choose, hour_choose), rides, view_map)\n",
    "totals = pn.Column(pn.Spacer(height=20), day_or_hour, view_totals)"
   ]
  },
  {
   "cell_type": "code",
   "execution_count": null,
   "id": "7fc8fd74-2a1d-400e-8d31-17eca5f2b6b8",
   "metadata": {},
   "outputs": [],
   "source": [
    "tabs = pn.Tabs(('Grafy podľa dní', hourly), ('Grafy celkové', totals),\n",
    "               ('Miesta na mape', maps), ('Histogramy', dist_and_times), dynamic=True)\n",
    "pn.Column(nadpis, pn.Spacer(height=25), tabs).servable()"
   ]
  }
 ],
 "metadata": {
  "ipyflow": {
   "cell_children": {
    "16dab953-2a26-4576-8ce3-c7926cf376ba": [
     "e396aba3-d27f-4a7c-b74a-a9dc8c1041fb"
    ],
    "2dbcc59b-014c-45ad-8d6d-1e413717e111": [],
    "3dd3215d-3177-46fe-9855-137ad99eb14c": [
     "e396aba3-d27f-4a7c-b74a-a9dc8c1041fb",
     "16dab953-2a26-4576-8ce3-c7926cf376ba",
     "93840c48-94c3-4198-a50e-4548eb9e7f06"
    ],
    "5a01615f-7502-4432-8968-5291987ea438": [
     "3dd3215d-3177-46fe-9855-137ad99eb14c",
     "a3a66a71-4da0-4e6a-bd95-98be0e2b97aa",
     "2dbcc59b-014c-45ad-8d6d-1e413717e111",
     "7fc8fd74-2a1d-400e-8d31-17eca5f2b6b8",
     "93840c48-94c3-4198-a50e-4548eb9e7f06",
     "e396aba3-d27f-4a7c-b74a-a9dc8c1041fb",
     "16dab953-2a26-4576-8ce3-c7926cf376ba",
     "cbc84923-e878-4418-9191-567f52fb9a79",
     "e8991238-2a9a-4498-a3fa-be3ec09c8201"
    ],
    "7fc8fd74-2a1d-400e-8d31-17eca5f2b6b8": [],
    "93840c48-94c3-4198-a50e-4548eb9e7f06": [
     "e396aba3-d27f-4a7c-b74a-a9dc8c1041fb"
    ],
    "a3a66a71-4da0-4e6a-bd95-98be0e2b97aa": [
     "e396aba3-d27f-4a7c-b74a-a9dc8c1041fb"
    ],
    "cbc84923-e878-4418-9191-567f52fb9a79": [
     "e396aba3-d27f-4a7c-b74a-a9dc8c1041fb",
     "a3a66a71-4da0-4e6a-bd95-98be0e2b97aa",
     "2dbcc59b-014c-45ad-8d6d-1e413717e111",
     "e8991238-2a9a-4498-a3fa-be3ec09c8201"
    ],
    "e396aba3-d27f-4a7c-b74a-a9dc8c1041fb": [
     "7fc8fd74-2a1d-400e-8d31-17eca5f2b6b8"
    ],
    "e8991238-2a9a-4498-a3fa-be3ec09c8201": [
     "7fc8fd74-2a1d-400e-8d31-17eca5f2b6b8"
    ]
   },
   "cell_parents": {
    "16dab953-2a26-4576-8ce3-c7926cf376ba": [
     "3dd3215d-3177-46fe-9855-137ad99eb14c",
     "5a01615f-7502-4432-8968-5291987ea438"
    ],
    "2dbcc59b-014c-45ad-8d6d-1e413717e111": [
     "cbc84923-e878-4418-9191-567f52fb9a79",
     "5a01615f-7502-4432-8968-5291987ea438"
    ],
    "3dd3215d-3177-46fe-9855-137ad99eb14c": [
     "5a01615f-7502-4432-8968-5291987ea438"
    ],
    "5a01615f-7502-4432-8968-5291987ea438": [],
    "7fc8fd74-2a1d-400e-8d31-17eca5f2b6b8": [
     "e396aba3-d27f-4a7c-b74a-a9dc8c1041fb",
     "5a01615f-7502-4432-8968-5291987ea438",
     "e8991238-2a9a-4498-a3fa-be3ec09c8201"
    ],
    "93840c48-94c3-4198-a50e-4548eb9e7f06": [
     "3dd3215d-3177-46fe-9855-137ad99eb14c",
     "5a01615f-7502-4432-8968-5291987ea438"
    ],
    "a3a66a71-4da0-4e6a-bd95-98be0e2b97aa": [
     "cbc84923-e878-4418-9191-567f52fb9a79",
     "5a01615f-7502-4432-8968-5291987ea438"
    ],
    "cbc84923-e878-4418-9191-567f52fb9a79": [
     "5a01615f-7502-4432-8968-5291987ea438"
    ],
    "e396aba3-d27f-4a7c-b74a-a9dc8c1041fb": [
     "a3a66a71-4da0-4e6a-bd95-98be0e2b97aa",
     "3dd3215d-3177-46fe-9855-137ad99eb14c",
     "93840c48-94c3-4198-a50e-4548eb9e7f06",
     "5a01615f-7502-4432-8968-5291987ea438",
     "16dab953-2a26-4576-8ce3-c7926cf376ba",
     "cbc84923-e878-4418-9191-567f52fb9a79"
    ],
    "e8991238-2a9a-4498-a3fa-be3ec09c8201": [
     "cbc84923-e878-4418-9191-567f52fb9a79",
     "5a01615f-7502-4432-8968-5291987ea438"
    ]
   }
  },
  "kernelspec": {
   "display_name": "Python 3 (ipykernel)",
   "language": "python",
   "name": "python3"
  },
  "language_info": {
   "codemirror_mode": {
    "name": "ipython",
    "version": 3
   },
   "file_extension": ".py",
   "mimetype": "text/x-python",
   "name": "python",
   "nbconvert_exporter": "python",
   "pygments_lexer": "ipython3",
   "version": "3.11.7"
  }
 },
 "nbformat": 4,
 "nbformat_minor": 5
}
